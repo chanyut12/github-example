{
  "nbformat": 4,
  "nbformat_minor": 0,
  "metadata": {
    "colab": {
      "provenance": [],
      "authorship_tag": "ABX9TyM1vJ+6RT8zSeOhFlDglJFH",
      "include_colab_link": true
    },
    "kernelspec": {
      "name": "python3",
      "display_name": "Python 3"
    },
    "language_info": {
      "name": "python"
    }
  },
  "cells": [
    {
      "cell_type": "markdown",
      "metadata": {
        "id": "view-in-github",
        "colab_type": "text"
      },
      "source": [
        "<a href=\"https://colab.research.google.com/github/chanyut12/github-example/blob/main/lab12_4.ipynb\" target=\"_parent\"><img src=\"https://colab.research.google.com/assets/colab-badge.svg\" alt=\"Open In Colab\"/></a>"
      ]
    },
    {
      "cell_type": "code",
      "execution_count": null,
      "metadata": {
        "colab": {
          "base_uri": "https://localhost:8080/"
        },
        "id": "Lpl6eoFItYe6",
        "outputId": "ee6a0cc4-e1cd-49c5-e826-f4ec3c2c6400"
      },
      "outputs": [
        {
          "output_type": "stream",
          "name": "stdout",
          "text": [
            "list2 before assighment\n",
            "[]\n",
            "[1, 2, 3, 4, 5]\n",
            "[1, 2, 3, 4, 5, 12]\n",
            "[1, 2, 3, 4, 5, 12, [13, 14, 15]]\n",
            "_____________End of program _______________\n",
            "Current value of list1\n",
            "[1, 2, 3, 4, 5, 12, [13, 14, 15]]\n",
            "Current value of list2\n",
            "[1, 2, 3, 4, 5, 12, [13, 14, 15]]\n",
            "15\n"
          ]
        }
      ],
      "source": [
        "list1 =[1,2,3,4,5]\n",
        "list2 = list()\n",
        "print(\"list2 before assighment\")\n",
        "print(list2)\n",
        "#make list2 from list1\n",
        "list2 = list1\n",
        "print(list2)\n",
        "list2.append(12)\n",
        "print(list2)\n",
        "\n",
        "list2.append([13,14,15])\n",
        "print(list2)\n",
        "\n",
        "print(\"_____________End of program _______________\")\n",
        "print(\"Current value of list1\")\n",
        "print(list1)\n",
        "print(\"Current value of list2\")\n",
        "print(list2)\n",
        "print(list2[6][2])"
      ]
    },
    {
      "cell_type": "code",
      "source": [
        "first = 10\n",
        "second = 20\n",
        "third = 3.1415\n",
        "fourth = 'END'\n",
        "print('1. First number is',first,'and second number is',second,third,fourth)\n",
        "print('2. First number is %d and second number is %d %f %s' %(first,second,third,fourth))\n",
        "print ('%s' %fourth[1])\n",
        "print ('%d' %third)\n",
        "print ('%.3d' %third)\n",
        "print ('%.7d' %third)\n",
        "print ('%f' %third)\n",
        "print ('%.3f' %third)\n",
        "print ('%.7f' %third)"
      ],
      "metadata": {
        "colab": {
          "base_uri": "https://localhost:8080/"
        },
        "id": "sDfXzeCq30PB",
        "outputId": "8338dc81-147b-46e7-c0aa-a3ba44cd6030"
      },
      "execution_count": null,
      "outputs": [
        {
          "output_type": "stream",
          "name": "stdout",
          "text": [
            "1. First number is 10 and second number is 20 3.1415 END\n",
            "2. First number is 10 and second number is 20 3.141500 END\n",
            "N\n",
            "3\n",
            "003\n",
            "0000003\n",
            "3.141500\n",
            "3.142\n",
            "3.1415000\n"
          ]
        }
      ]
    },
    {
      "cell_type": "code",
      "source": [
        "n = int(input())\n",
        "def fac(n):\n",
        "    if n==1:\n",
        "        return 1\n",
        "    return n * fac(n-1)\n",
        "\n",
        "fac(n)"
      ],
      "metadata": {
        "colab": {
          "base_uri": "https://localhost:8080/"
        },
        "id": "fHdJJrGJAwyw",
        "outputId": "76c2e1eb-ba27-4d79-f9fb-d9725bb830ee"
      },
      "execution_count": null,
      "outputs": [
        {
          "name": "stdout",
          "output_type": "stream",
          "text": [
            "5\n"
          ]
        },
        {
          "output_type": "execute_result",
          "data": {
            "text/plain": [
              "120"
            ]
          },
          "metadata": {},
          "execution_count": 2
        }
      ]
    },
    {
      "cell_type": "code",
      "source": [
        "file =  open('/content/66160295_01.txt' , 'w')\n",
        "id_ = input()\n",
        "fname = input()\n",
        "lname = input()\n",
        "\n",
        "file.write(f\"{id_}\\n\")\n",
        "file.write(f\"{fname}\\n\")\n",
        "file.write(f\"{lname}\")\n",
        "file.close()\n",
        "\n",
        "f = open(\"66160295_01.txt\", \"r\")\n",
        "print(\"{}\".format(f.read()))\n",
        "\n"
      ],
      "metadata": {
        "colab": {
          "base_uri": "https://localhost:8080/"
        },
        "id": "_bvZMZpHU79P",
        "outputId": "fafd9a86-0c93-46c2-9074-3e232ea0598c"
      },
      "execution_count": 10,
      "outputs": [
        {
          "output_type": "stream",
          "name": "stdout",
          "text": [
            "66160295\n",
            "chanyut\n",
            "lisawat\n",
            "66160295\n",
            "chanyut\n",
            "lisawat\n"
          ]
        }
      ]
    },
    {
      "cell_type": "code",
      "source": [
        "n = int(input())\n",
        "f = open(\"66160295_01.txt\",'r')\n",
        "print(\"{}\".format(f.read()))\n",
        "print(f\"I’m {n} years old\")"
      ],
      "metadata": {
        "colab": {
          "base_uri": "https://localhost:8080/"
        },
        "id": "ZmTWYUaeWZ0x",
        "outputId": "d5975aac-0daf-43c1-ccb6-b477eca9f159"
      },
      "execution_count": 11,
      "outputs": [
        {
          "output_type": "stream",
          "name": "stdout",
          "text": [
            "19\n",
            "66160295\n",
            "chanyut\n",
            "lisawat\n",
            "I’m 19 years old\n"
          ]
        }
      ]
    },
    {
      "cell_type": "code",
      "source": [
        "#OOP\n",
        "rate = 38.28\n",
        "\n",
        "def baht():\n",
        "        amount_in_baht = float(input(\"Enter the amount in baht: \"))\n",
        "        return amount_in_baht\n",
        "\n",
        "def dollars(amount_in_baht):\n",
        "    return amount_in_baht / rate\n",
        "\n",
        "def write_to_file(amount_in_baht, amount_in_us_dollars):\n",
        "    filename = \"66160295_converter.txt\"\n",
        "\n",
        "    with open(filename, 'w') as file:\n",
        "        file.write(f\"{amount_in_baht:.2f} baht = {amount_in_us_dollars:.2f} US dollars\\n\")\n",
        "\n",
        "    f = open(filename , \"r\")\n",
        "    print(f.read())\n",
        "\n",
        "def main():\n",
        "    amount_in_baht = baht()\n",
        "    amount_in_us_dollars = dollars(amount_in_baht)\n",
        "    write_to_file(amount_in_baht, amount_in_us_dollars)\n",
        "\n",
        "if __name__ == \"__main__\":\n",
        "    main()\n"
      ],
      "metadata": {
        "colab": {
          "base_uri": "https://localhost:8080/"
        },
        "id": "0fyAWfe7xyzg",
        "outputId": "737ef7a9-ca8b-4a78-e29b-11c428511cfd"
      },
      "execution_count": 30,
      "outputs": [
        {
          "output_type": "stream",
          "name": "stdout",
          "text": [
            "Enter the amount in baht: 200.5\n",
            "200.50 baht = 5.24 US dollars\n",
            "\n"
          ]
        }
      ]
    },
    {
      "cell_type": "code",
      "source": [
        "file = open(\"66160295_table.txt\",\"w\")\n",
        "id_ = int(input())\n",
        "Id = (id_ %10)+1\n",
        "for i in range(12):\n",
        "  file.write(\"{} x {} = {}\\n\".format(Id , i+1 , Id*(i+1)))\n",
        "\n",
        "f = open(\"66160295_table.txt\",'r')\n",
        "print(f.read())\n",
        "\n",
        "\n"
      ],
      "metadata": {
        "colab": {
          "base_uri": "https://localhost:8080/"
        },
        "id": "fMU1HBUizktr",
        "outputId": "e3598b68-a7be-45ef-80e7-9d60ccc3352b"
      },
      "execution_count": 25,
      "outputs": [
        {
          "output_type": "stream",
          "name": "stdout",
          "text": [
            "66160295\n",
            "6 x 1 = 6\n",
            "6 x 2 = 12\n",
            "6 x 3 = 18\n",
            "6 x 4 = 24\n",
            "6 x 5 = 30\n",
            "6 x 6 = 36\n",
            "6 x 7 = 42\n",
            "6 x 8 = 48\n",
            "6 x 9 = 54\n",
            "6 x 10 = 60\n",
            "6 x 11 = 66\n",
            "6 x 12 = 72\n",
            "\n"
          ]
        }
      ]
    }
  ]
}