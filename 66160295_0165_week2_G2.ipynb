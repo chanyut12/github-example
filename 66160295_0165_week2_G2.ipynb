{
  "nbformat": 4,
  "nbformat_minor": 0,
  "metadata": {
    "colab": {
      "provenance": [],
      "include_colab_link": true
    },
    "kernelspec": {
      "name": "python3",
      "display_name": "Python 3"
    },
    "language_info": {
      "name": "python"
    }
  },
  "cells": [
    {
      "cell_type": "markdown",
      "metadata": {
        "id": "view-in-github",
        "colab_type": "text"
      },
      "source": [
        "<a href=\"https://colab.research.google.com/github/chanyut12/github-example/blob/main/66160295_0165_week2_G2.ipynb\" target=\"_parent\"><img src=\"https://colab.research.google.com/assets/colab-badge.svg\" alt=\"Open In Colab\"/></a>"
      ]
    },
    {
      "cell_type": "markdown",
      "metadata": {
        "id": "xl1W9gMiDaTO"
      },
      "source": [
        "**ให้นิสิต เลือกเมนู File-->Save a copy in drive เพื่อคัดลอกไฟล์ไปไว้ในไดร์ฟของนิสิตก่อน และเปลี่ยนชื่อไฟล์เป็น รหัสนิสิต_week2.ipynb ก่อนส่งงานค่ะ**\n",
        "\n",
        "1.\tจงสร้างตารางค่าความจริงเพื่อตรวจสอบว่า $\\neg$(p $\\vee$r) $\\vee$ $\\neg$p สมมูลกับ $\\neg$(($\\neg$p $\\vee$r) $\\wedge$r) หรือไม่\n",
        "\n",
        "\n",
        "2. จงสร้างตารางค่าความจริงเพื่อตรวจสอบว่า p$\\vee$ (($\\neg$p$\\wedge$q)$\\oplus$$\\neg$q)เป็นสัจนิรันดร์หรือไม่\n",
        "\n",
        "\n",
        "3. กำหนดให้\n",
        "\n",
        "p แทนสตริง \"468963\"\n",
        "\n",
        "t แทนสตริง \"afternoon\"\n",
        "\n",
        "r แทนลิสต์ [1,2,3,4,5]\n",
        "\n",
        "s แทนลิสต์ [2.0,3.1,4.4,5.8,6.3,6.7]\n",
        "\n",
        "จงเขียนโปรแกรม เพื่อตอบคำถามข้อ 1. - 8. ต่อไปนี้ และแสดงผลออกทางหน้าจอ\n",
        "\n",
        "3.1\tจงหาค่าความจริงของ $\\forall x(x \\geq 5)$ และ $\\exists x(x \\geq 5)$เมื่อเอกภพสัมพัทธ์คือลิสต์ s\n",
        "\n",
        "3.2\tจงหาค่าความจริงของ $\\forall x$ (x เป็นจำนวนเต็ม) และ $\\exists x$ (x เป็นจำนวนเต็ม)เมื่อเอกภพสัมพัทธ์คือลิสต์ r\n",
        "\n",
        "3.3\tจงหาค่าความจริงของ $\\forall x$ (x เป็นจำนวนทศนิยม) และ $\\exists x$ (x เป็นจำนวนทศนิยม)เมื่อเอกภพสัมพัทธ์คือลิสต์ s\n",
        "\n",
        "3.4  จงหาค่าความจริงของ $\\forall x$ (x เป็นตัวอักษร) และ $\\exists x$ (x เป็นตัวอักษร) เมื่อเอกภพสัมพัทธ์คืออักขระในสตริง p\n",
        "\n",
        "3.5\tจงหาค่าความจริงของ $\\forall x$ (x เป็นตัวเลข) และ $\\exists x$ (x เป็นตัวเลข) เมื่อเอกภพสัมพัทธ์คืออักขระในสตริง t\n",
        "\n",
        "3.6\tจงหาค่าความจริงของ $\\forall x \\exists y (x+y \\leq 4)$ เมื่อเอกภพสัมพัทธ์ของ x และ y คือลิสต์ r\n",
        "\n",
        "3.7\tจงหาค่าความจริงของ $\\exists  x  \\forall y (x+y \\leq 4)$ เมื่อเอกภพสัมพัทธ์ของ x และ y คือลิสต์ r\n",
        "\n",
        "3.8\tจงหาค่าความจริงของ $\\exists  x  \\exists y (x+y \\leq 4)$ เมื่อเอกภพสัมพัทธ์ของ x และ y คือลิสต์ r"
      ]
    },
    {
      "cell_type": "code",
      "source": [
        "!pip install truth-table-generator"
      ],
      "metadata": {
        "id": "cPNKslxbGQtx",
        "outputId": "58e21245-c96f-44f6-ee98-4d008b0ef266",
        "colab": {
          "base_uri": "https://localhost:8080/"
        }
      },
      "execution_count": null,
      "outputs": [
        {
          "output_type": "stream",
          "name": "stdout",
          "text": [
            "Collecting truth-table-generator\n",
            "  Downloading truth_table_generator-1.1.2.tar.gz (14 kB)\n",
            "  Preparing metadata (setup.py) ... \u001b[?25l\u001b[?25hdone\n",
            "Requirement already satisfied: numpy in /usr/local/lib/python3.10/dist-packages (from truth-table-generator) (1.22.4)\n",
            "Requirement already satisfied: pandas in /usr/local/lib/python3.10/dist-packages (from truth-table-generator) (1.5.3)\n",
            "Collecting PTable (from truth-table-generator)\n",
            "  Downloading PTable-0.9.2.tar.gz (31 kB)\n",
            "  Preparing metadata (setup.py) ... \u001b[?25l\u001b[?25hdone\n",
            "Requirement already satisfied: pyparsing in /usr/local/lib/python3.10/dist-packages (from truth-table-generator) (3.1.0)\n",
            "Requirement already satisfied: tabulate in /usr/local/lib/python3.10/dist-packages (from truth-table-generator) (0.8.10)\n",
            "Requirement already satisfied: jinja2 in /usr/local/lib/python3.10/dist-packages (from truth-table-generator) (3.1.2)\n",
            "Requirement already satisfied: MarkupSafe>=2.0 in /usr/local/lib/python3.10/dist-packages (from jinja2->truth-table-generator) (2.1.3)\n",
            "Requirement already satisfied: python-dateutil>=2.8.1 in /usr/local/lib/python3.10/dist-packages (from pandas->truth-table-generator) (2.8.2)\n",
            "Requirement already satisfied: pytz>=2020.1 in /usr/local/lib/python3.10/dist-packages (from pandas->truth-table-generator) (2022.7.1)\n",
            "Requirement already satisfied: six>=1.5 in /usr/local/lib/python3.10/dist-packages (from python-dateutil>=2.8.1->pandas->truth-table-generator) (1.16.0)\n",
            "Building wheels for collected packages: truth-table-generator, PTable\n",
            "  Building wheel for truth-table-generator (setup.py) ... \u001b[?25l\u001b[?25hdone\n",
            "  Created wheel for truth-table-generator: filename=truth_table_generator-1.1.2-py3-none-any.whl size=13939 sha256=6d7bc3307b0fe84b07a0be799bdd986b8b5e16464717cb19c0372bfd2fd490bd\n",
            "  Stored in directory: /root/.cache/pip/wheels/bf/8b/b9/7230e22b24694fca089c0bfc01f3120225a502d74989bc8222\n",
            "  Building wheel for PTable (setup.py) ... \u001b[?25l\u001b[?25hdone\n",
            "  Created wheel for PTable: filename=PTable-0.9.2-py3-none-any.whl size=22908 sha256=3824c80d61b5e6f8255ebf2651fa8aa6d40fc33c605a90ec74690a5702846703\n",
            "  Stored in directory: /root/.cache/pip/wheels/bc/88/52/f2e9fc70f3a657cf256e9b01a8a42938c4c5ee69118d51ed90\n",
            "Successfully built truth-table-generator PTable\n",
            "Installing collected packages: PTable, truth-table-generator\n",
            "Successfully installed PTable-0.9.2 truth-table-generator-1.1.2\n"
          ]
        }
      ]
    },
    {
      "cell_type": "code",
      "source": [
        "!pip install truth-table-generator"
      ],
      "metadata": {
        "colab": {
          "base_uri": "https://localhost:8080/"
        },
        "id": "yKStNanIGc8I",
        "outputId": "dc50aa13-0d65-47c1-f1e1-fd20c49fe804"
      },
      "execution_count": 1,
      "outputs": [
        {
          "output_type": "stream",
          "name": "stdout",
          "text": [
            "Collecting truth-table-generator\n",
            "  Downloading truth_table_generator-1.1.2.tar.gz (14 kB)\n",
            "  Preparing metadata (setup.py) ... \u001b[?25l\u001b[?25hdone\n",
            "Requirement already satisfied: numpy in /usr/local/lib/python3.10/dist-packages (from truth-table-generator) (1.22.4)\n",
            "Requirement already satisfied: pandas in /usr/local/lib/python3.10/dist-packages (from truth-table-generator) (1.5.3)\n",
            "Collecting PTable (from truth-table-generator)\n",
            "  Downloading PTable-0.9.2.tar.gz (31 kB)\n",
            "  Preparing metadata (setup.py) ... \u001b[?25l\u001b[?25hdone\n",
            "Requirement already satisfied: pyparsing in /usr/local/lib/python3.10/dist-packages (from truth-table-generator) (3.1.0)\n",
            "Requirement already satisfied: tabulate in /usr/local/lib/python3.10/dist-packages (from truth-table-generator) (0.8.10)\n",
            "Requirement already satisfied: jinja2 in /usr/local/lib/python3.10/dist-packages (from truth-table-generator) (3.1.2)\n",
            "Requirement already satisfied: MarkupSafe>=2.0 in /usr/local/lib/python3.10/dist-packages (from jinja2->truth-table-generator) (2.1.3)\n",
            "Requirement already satisfied: python-dateutil>=2.8.1 in /usr/local/lib/python3.10/dist-packages (from pandas->truth-table-generator) (2.8.2)\n",
            "Requirement already satisfied: pytz>=2020.1 in /usr/local/lib/python3.10/dist-packages (from pandas->truth-table-generator) (2022.7.1)\n",
            "Requirement already satisfied: six>=1.5 in /usr/local/lib/python3.10/dist-packages (from python-dateutil>=2.8.1->pandas->truth-table-generator) (1.16.0)\n",
            "Building wheels for collected packages: truth-table-generator, PTable\n",
            "  Building wheel for truth-table-generator (setup.py) ... \u001b[?25l\u001b[?25hdone\n",
            "  Created wheel for truth-table-generator: filename=truth_table_generator-1.1.2-py3-none-any.whl size=13939 sha256=c09dd405a3b5d7e531ceab9720e1894c7462359a9af963dcdb9c34a5e12b7d69\n",
            "  Stored in directory: /root/.cache/pip/wheels/bf/8b/b9/7230e22b24694fca089c0bfc01f3120225a502d74989bc8222\n",
            "  Building wheel for PTable (setup.py) ... \u001b[?25l\u001b[?25hdone\n",
            "  Created wheel for PTable: filename=PTable-0.9.2-py3-none-any.whl size=22908 sha256=3b4dabefb82a8455e37a3c162d03f94f475e22d02dac19371f30e472199b2b2d\n",
            "  Stored in directory: /root/.cache/pip/wheels/bc/88/52/f2e9fc70f3a657cf256e9b01a8a42938c4c5ee69118d51ed90\n",
            "Successfully built truth-table-generator PTable\n",
            "Installing collected packages: PTable, truth-table-generator\n",
            "Successfully installed PTable-0.9.2 truth-table-generator-1.1.2\n"
          ]
        }
      ]
    },
    {
      "cell_type": "code",
      "source": [
        "#ชื่อนายชาญยุทธ ลิสวัสดิ์ รหัส 66160295\n",
        "#1.จงสร้างตารางค่าความจริงเพื่อตรวจสอบว่า  ¬ (p  ∨ r)  ∨   ¬ p สมมูลกับ  ¬ (( ¬ p  ∨ r)  ∧ r) หรือไม่\n",
        "import ttg\n",
        "t = ttg.Truths(['p', 'q'], ['not (p or r)','(not (p or r)) or not p','not(((not p) or r) and r)','((not (p or r)) or not p) = (not(((not p) or r) and r))'])\n",
        "print(t)\n",
        "print(t.valuation())\n",
        "if t.valuation()=='Tautology':\n",
        "  print('Equivalence')\n",
        "else:\n",
        "  print('Not equivalence')"
      ],
      "metadata": {
        "id": "EANPBIrNe5vw",
        "colab": {
          "base_uri": "https://localhost:8080/"
        },
        "outputId": "968b7aa3-b46b-44e7-e1da-7306b2d01edc"
      },
      "execution_count": 27,
      "outputs": [
        {
          "output_type": "stream",
          "name": "stdout",
          "text": [
            "+-----+-----+----------------+---------------------------+-----------------------------+-----------------------------------------------------------+\n",
            "|  p  |  q  |  not (p or r)  |  (not (p or r)) or not p  |  not(((not p) or r) and r)  |  ((not (p or r)) or not p) = (not(((not p) or r) and r))  |\n",
            "|-----+-----+----------------+---------------------------+-----------------------------+-----------------------------------------------------------|\n",
            "|  1  |  1  |       0        |             0             |              1              |                             0                             |\n",
            "|  1  |  0  |       0        |             0             |              1              |                             0                             |\n",
            "|  0  |  1  |       1        |             1             |              1              |                             1                             |\n",
            "|  0  |  0  |       1        |             1             |              1              |                             1                             |\n",
            "+-----+-----+----------------+---------------------------+-----------------------------+-----------------------------------------------------------+\n",
            "Contingency\n",
            "Not equivalence\n"
          ]
        }
      ]
    },
    {
      "cell_type": "code",
      "source": [
        "#2.จงสร้างตารางค่าความจริงเพื่อตรวจสอบว่า p ∨  (( ¬ p ∧ q) ⊕  ¬ q)เป็นสัจนิรันดร์หรือไม่\n",
        "l= ttg.Truths(['p','q'],['p or (((not p) and q) xor not q)'])\n",
        "print(l)"
      ],
      "metadata": {
        "colab": {
          "base_uri": "https://localhost:8080/"
        },
        "id": "zNwtWTmTHGx5",
        "outputId": "9da6c86f-180b-45ea-dc43-66493a90bb16"
      },
      "execution_count": 23,
      "outputs": [
        {
          "output_type": "stream",
          "name": "stdout",
          "text": [
            "+-----+-----+------------------------------------+\n",
            "|  p  |  q  |  p or (((not p) and q) xor not q)  |\n",
            "|-----+-----+------------------------------------|\n",
            "|  1  |  1  |                 1                  |\n",
            "|  1  |  0  |                 1                  |\n",
            "|  0  |  1  |                 1                  |\n",
            "|  0  |  0  |                 1                  |\n",
            "+-----+-----+------------------------------------+\n"
          ]
        }
      ]
    },
    {
      "cell_type": "code",
      "source": [
        "p=\"468963\"\n",
        "t=\"afternoon\"\n",
        "r=[1,2,3,4,5]\n",
        "s=[2.0,3.1,4.4,5.8,6.3,6.7]\n",
        "#3.1 จงหาค่าความจริงของ  ∀x(x≥5)  และ  ∃x(x≥5) เมื่อเอกภพสัมพัทธ์คือลิสต์ s\n",
        "#for x in s:\n",
        "  #if x>=5:\n",
        "    #print(\"True\")\n",
        "  #else:\n",
        "    #print(\"False\")\n",
        "\n",
        "a=all((x >=5) for x in s)\n",
        "print(\"∀x(x≥5) ∃x(x≥5):\",a)\n",
        "b=any(x>=5 for x in s)\n",
        "print(\"∃x(x≥5):\",b)"
      ],
      "metadata": {
        "colab": {
          "base_uri": "https://localhost:8080/"
        },
        "id": "1M-oKY6DJejw",
        "outputId": "fdf06c7b-288e-4529-b8e5-e59362820f73"
      },
      "execution_count": 50,
      "outputs": [
        {
          "output_type": "stream",
          "name": "stdout",
          "text": [
            "∀x(x≥5) ∃x(x≥5): False\n",
            "∃x(x≥5): True\n"
          ]
        }
      ]
    },
    {
      "cell_type": "code",
      "source": [
        "#3.2 จงหาค่าความจริงของ  ∀x  (x เป็นจำนวนเต็ม) และ  ∃x  (x เป็นจำนวนเต็ม)เมื่อเอกภพสัมพัทธ์คือลิสต์ r\n",
        "a= all(isinstance(x,int) for x in r)\n",
        "print(a)"
      ],
      "metadata": {
        "colab": {
          "base_uri": "https://localhost:8080/"
        },
        "id": "J2VpVUD7PZXX",
        "outputId": "71c070d4-2c5e-4d73-e5db-ab6a3c8446d7"
      },
      "execution_count": 53,
      "outputs": [
        {
          "output_type": "stream",
          "name": "stdout",
          "text": [
            "True\n"
          ]
        }
      ]
    },
    {
      "cell_type": "code",
      "source": [
        "#3.3 จงหาค่าความจริงของ  ∀x  (x เป็นจำนวนทศนิยม) และ  ∃x  (x เป็นจำนวนทศนิยม)เมื่อเอกภพสัมพัทธ์คือลิสต์ s\n",
        "c=all(isinstance(x,float) for x in r)\n",
        "print(c)"
      ],
      "metadata": {
        "colab": {
          "base_uri": "https://localhost:8080/"
        },
        "id": "2xHQAXmKSgAt",
        "outputId": "dc8071d0-79b6-4259-b5a0-056fb458bf21"
      },
      "execution_count": 56,
      "outputs": [
        {
          "output_type": "stream",
          "name": "stdout",
          "text": [
            "False\n"
          ]
        }
      ]
    },
    {
      "cell_type": "code",
      "source": [
        "#3.4 จงหาค่าความจริงของ  ∀x  (x เป็นตัวอักษร) และ  ∃x  (x เป็นตัวอักษร) เมื่อเอกภพสัมพัทธ์คืออักขระในสตริง p\n",
        "p=\"468963\"\n",
        "d=all(isinstance(x,str) for x in p)\n",
        "print(d)"
      ],
      "metadata": {
        "colab": {
          "base_uri": "https://localhost:8080/"
        },
        "id": "12n0xBWES56t",
        "outputId": "674858f1-dbf5-43b1-ccc3-56a5403718be"
      },
      "execution_count": 59,
      "outputs": [
        {
          "output_type": "stream",
          "name": "stdout",
          "text": [
            "True\n"
          ]
        }
      ]
    },
    {
      "cell_type": "code",
      "source": [
        "#3.5 จงหาค่าความจริงของ  ∀x  (x เป็นตัวเลข) และ  ∃x  (x เป็นตัวเลข) เมื่อเอกภพสัมพัทธ์คืออักขระในสตริง t\n",
        "e=all(isinstance(x,int) for x in t)\n",
        "print(e)"
      ],
      "metadata": {
        "colab": {
          "base_uri": "https://localhost:8080/"
        },
        "id": "RQFbojMlTXut",
        "outputId": "e8d23a2a-b930-4bab-9bd6-c5ba80b64142"
      },
      "execution_count": 60,
      "outputs": [
        {
          "output_type": "stream",
          "name": "stdout",
          "text": [
            "False\n"
          ]
        }
      ]
    },
    {
      "cell_type": "code",
      "source": [
        "#3.6 จงหาค่าความจริงของ  ∀x∃y(x+y≤4)  เมื่อเอกภพสัมพัทธ์ของ x และ y คือลิสต์ r\n",
        "r=[1,2,3,4,5]\n",
        "x_=list(r)\n",
        "y_=list(r)\n",
        "print(list(list(x+y<=4 for y in y_) for x in x_))\n",
        "print(all(any(x+y<=4 for y in y_)for x in x_))"
      ],
      "metadata": {
        "colab": {
          "base_uri": "https://localhost:8080/"
        },
        "id": "-YgkdUvZTeJE",
        "outputId": "089b2de5-984b-47e9-9df7-629cf5b46e21"
      },
      "execution_count": 58,
      "outputs": [
        {
          "output_type": "stream",
          "name": "stdout",
          "text": [
            "[[True, True, True, False, False], [True, True, False, False, False], [True, False, False, False, False], [False, False, False, False, False], [False, False, False, False, False]]\n",
            "False\n"
          ]
        }
      ]
    },
    {
      "cell_type": "code",
      "source": [
        "#3.7 จงหาค่าความจริงของ  ∃x∀y(x+y≤4)  เมื่อเอกภพสัมพัทธ์ของ x และ y คือลิสต์ r\n",
        "x_=list(r)\n",
        "y_=list(r)\n",
        "print(list(list(x+y<=4 for y in y_) for x in x_))\n",
        "print(any(all(x+y<=4 for y in y_)for x in x_))"
      ],
      "metadata": {
        "colab": {
          "base_uri": "https://localhost:8080/"
        },
        "id": "CqB5nZhVTj9D",
        "outputId": "d9e05a5d-d330-4e7e-d275-8d52b0154130"
      },
      "execution_count": 62,
      "outputs": [
        {
          "output_type": "stream",
          "name": "stdout",
          "text": [
            "[[True, True, True, False, False], [True, True, False, False, False], [True, False, False, False, False], [False, False, False, False, False], [False, False, False, False, False]]\n",
            "False\n"
          ]
        }
      ]
    },
    {
      "cell_type": "code",
      "source": [
        "#3.8 จงหาค่าความจริงของ  ∃x∃y(x+y≤4)  เมื่อเอกภพสัมพัทธ์ของ x และ y คือลิสต์ r\n",
        "x_=list(r)\n",
        "y_=list(r)\n",
        "print(list(list(x+y<=4 for y in y_) for x in x_))\n",
        "print(any(any(x+y<=4 for y in y_)for x in x_))"
      ],
      "metadata": {
        "colab": {
          "base_uri": "https://localhost:8080/"
        },
        "id": "UH-DPmEOTvDd",
        "outputId": "3cf0a87b-31c8-4f61-f1a0-55af5d93fd14"
      },
      "execution_count": 63,
      "outputs": [
        {
          "output_type": "stream",
          "name": "stdout",
          "text": [
            "[[True, True, True, False, False], [True, True, False, False, False], [True, False, False, False, False], [False, False, False, False, False], [False, False, False, False, False]]\n",
            "True\n"
          ]
        }
      ]
    }
  ]
}